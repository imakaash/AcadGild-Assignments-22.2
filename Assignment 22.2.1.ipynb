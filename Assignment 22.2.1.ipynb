{
 "cells": [
  {
   "cell_type": "code",
   "execution_count": 1,
   "metadata": {
    "collapsed": true
   },
   "outputs": [],
   "source": [
    "from pyspark import SparkContext"
   ]
  },
  {
   "cell_type": "code",
   "execution_count": 2,
   "metadata": {
    "collapsed": true
   },
   "outputs": [],
   "source": [
    "sc = SparkContext()"
   ]
  },
  {
   "cell_type": "markdown",
   "metadata": {},
   "source": [
    "Problem Statement 1:"
   ]
  },
  {
   "cell_type": "code",
   "execution_count": 7,
   "metadata": {
    "collapsed": false
   },
   "outputs": [],
   "source": [
    "#1. Read the text file and create a tupled rdd."
   ]
  },
  {
   "cell_type": "code",
   "execution_count": 8,
   "metadata": {
    "collapsed": true
   },
   "outputs": [],
   "source": [
    "baseRDD = sc.textFile('Student_Dataset.txt')"
   ]
  },
  {
   "cell_type": "code",
   "execution_count": 9,
   "metadata": {
    "collapsed": false
   },
   "outputs": [
    {
     "data": {
      "text/plain": [
       "pyspark.rdd.RDD"
      ]
     },
     "execution_count": 9,
     "metadata": {},
     "output_type": "execute_result"
    }
   ],
   "source": [
    "type(baseRDD)"
   ]
  },
  {
   "cell_type": "code",
   "execution_count": 11,
   "metadata": {
    "collapsed": false
   },
   "outputs": [
    {
     "data": {
      "text/plain": [
       "[('Mathew', 'science', 'grade-3', '45', '12'),\n",
       " ('Mathew', 'history', 'grade-2', '55', '13'),\n",
       " ('Mark', 'maths', 'grade-2', '23', '13'),\n",
       " ('Mark', 'science', 'grade-1', '76', '13'),\n",
       " ('John', 'history', 'grade-1', '14', '12'),\n",
       " ('John', 'maths', 'grade-2', '74', '13'),\n",
       " ('Lisa', 'science', 'grade-1', '24', '12'),\n",
       " ('Lisa', 'history', 'grade-3', '86', '13'),\n",
       " ('Andrew', 'maths', 'grade-1', '34', '13'),\n",
       " ('Andrew', 'science', 'grade-3', '26', '14'),\n",
       " ('Andrew', 'history', 'grade-1', '74', '12'),\n",
       " ('Mathew', 'science', 'grade-2', '55', '12'),\n",
       " ('Mathew', 'history', 'grade-2', '87', '12'),\n",
       " ('Mark', 'maths', 'grade-1', '92', '13'),\n",
       " ('Mark', 'science', 'grade-2', '12', '12'),\n",
       " ('John', 'history', 'grade-1', '67', '13'),\n",
       " ('John', 'maths', 'grade-1', '35', '11'),\n",
       " ('Lisa', 'science', 'grade-2', '24', '13'),\n",
       " ('Lisa', 'history', 'grade-2', '98', '15'),\n",
       " ('Andrew', 'maths', 'grade-1', '23', '16'),\n",
       " ('Andrew', 'science', 'grade-3', '44', '14'),\n",
       " ('Andrew', 'history', 'grade-2', '77', '11')]"
      ]
     },
     "execution_count": 11,
     "metadata": {},
     "output_type": "execute_result"
    }
   ],
   "source": [
    "student_data = baseRDD.map(lambda lst: (lst.split(','))).map(lambda x: (x[0], x[1], x[2], x[3], x[4]))\n",
    "student_data.collect()"
   ]
  },
  {
   "cell_type": "code",
   "execution_count": 12,
   "metadata": {
    "collapsed": false
   },
   "outputs": [
    {
     "data": {
      "text/plain": [
       "pyspark.rdd.PipelinedRDD"
      ]
     },
     "execution_count": 12,
     "metadata": {},
     "output_type": "execute_result"
    }
   ],
   "source": [
    "type(student_data)"
   ]
  },
  {
   "cell_type": "code",
   "execution_count": 14,
   "metadata": {
    "collapsed": false
   },
   "outputs": [
    {
     "name": "stdout",
     "output_type": "stream",
     "text": [
      "total number of records present:  22\n"
     ]
    }
   ],
   "source": [
    "#2. Find the count of total number of rows present.\n",
    "print(\"total number of records present: \",student_data.count())"
   ]
  },
  {
   "cell_type": "code",
   "execution_count": 36,
   "metadata": {
    "collapsed": false
   },
   "outputs": [
    {
     "name": "stdout",
     "output_type": "stream",
     "text": [
      "distinct number of subjects present in the entire school:  [('science', 8.0), ('history', 8.0), ('maths', 6.0)]\n"
     ]
    }
   ],
   "source": [
    "#3. What is the distinct number of subjects present in the entire school\n",
    "print(\"distinct number of subjects present in the entire school: \",\\\n",
    "      student_data.map(lambda lst: (lst[1],'1'))\\\n",
    "         .reduceByKey(lambda amt1,amt2 : float(amt1)+float(amt2))\\\n",
    "         .collect())"
   ]
  },
  {
   "cell_type": "code",
   "execution_count": 37,
   "metadata": {
    "collapsed": false
   },
   "outputs": [
    {
     "name": "stdout",
     "output_type": "stream",
     "text": [
      "number of students in the school, whose name is Mathew and marks are 55:  2\n"
     ]
    }
   ],
   "source": [
    "#4. What is the count of the number of students in the school, whose name is Mathew and marks are 55\n",
    "print(\"number of students in the school, whose name is Mathew and marks are 55: \",\\\n",
    "      student_data.map(lambda x: x if x[0]=='Mathew' and x[3]=='55' else 1).filter(lambda x: x!=1).count())"
   ]
  },
  {
   "cell_type": "markdown",
   "metadata": {},
   "source": [
    "Problem Statement 2:"
   ]
  },
  {
   "cell_type": "code",
   "execution_count": 39,
   "metadata": {
    "collapsed": false
   },
   "outputs": [
    {
     "name": "stdout",
     "output_type": "stream",
     "text": [
      "count of students per grade in the school:  [('grade-1', 9.0), ('grade-2', 9.0), ('grade-3', 4.0)]\n"
     ]
    }
   ],
   "source": [
    "#1. What is the count of students per grade in the school?\n",
    "print(\"count of students per grade in the school: \",\\\n",
    "      student_data.map(lambda lst: (lst[2],'1'))\\\n",
    "         .reduceByKey(lambda amt1,amt2 : float(amt1)+float(amt2))\\\n",
    "         .collect())"
   ]
  },
  {
   "cell_type": "code",
   "execution_count": 100,
   "metadata": {
    "collapsed": false
   },
   "outputs": [
    {
     "name": "stdout",
     "output_type": "stream",
     "text": [
      "count of students per grade in the school:  [(('Mark', 'grade-2'), 35.0), (('John', 'grade-1'), 116.0), (('Andrew', 'grade-2'), '77'), (('Lisa', 'grade-1'), '24'), (('Lisa', 'grade-3'), '86'), (('Mathew', 'grade-3'), '45'), (('Mark', 'grade-1'), 168.0), (('John', 'grade-2'), '74'), (('Andrew', 'grade-3'), 70.0), (('Andrew', 'grade-1'), 131.0), (('Lisa', 'grade-2'), 122.0), (('Mathew', 'grade-2'), 197.0)]\n"
     ]
    }
   ],
   "source": [
    "#2. Find the average of each student (Note - Mathew is grade-1, is different from Mathew in some other grade!)\n",
    "print(\"count of students per grade in the school: \",\\\n",
    "      student_data.map(lambda lst: ((lst[0],lst[2]),lst[3]))\\\n",
    "         .reduceByKey(lambda amt1,amt2 : float(amt1)+float(amt2))\\\n",
    "         .collect())"
   ]
  },
  {
   "cell_type": "code",
   "execution_count": 96,
   "metadata": {
    "collapsed": false
   },
   "outputs": [],
   "source": [
    "baseRDD = student_data.map(lambda lst: ((lst[0],lst[2]),lst[3]))\n",
    "RDDmap = baseRDD.mapValues(lambda x: (x,1))\n",
    "RDDreduce = RDDmap.reduceByKey(lambda x,y: (float(x._1) + float(y._1), float(x._2) + float(y._2)))\n",
    "StudAvg = RDDreduce.mapValues(lambda sum,count:(1.0*sum)/count)"
   ]
  },
  {
   "cell_type": "code",
   "execution_count": 101,
   "metadata": {
    "collapsed": false
   },
   "outputs": [
    {
     "data": {
      "text/plain": [
       "pyspark.rdd.PipelinedRDD"
      ]
     },
     "execution_count": 101,
     "metadata": {},
     "output_type": "execute_result"
    }
   ],
   "source": [
    "type(StudAvg)"
   ]
  },
  {
   "cell_type": "code",
   "execution_count": 109,
   "metadata": {
    "collapsed": false
   },
   "outputs": [],
   "source": [
    "#3. What is the average score of students in each subject across all grades?\n",
    "baseRDD = student_data.map(lambda lst:((x.split(\",\")(0),x.split(\",\")(1)),x.split(\",\")(3).toInt))\n",
    "RDDmap = baseRDD.mapValues(lambda x: (x,1))\n",
    "RDDreduce = RDDmap.reduceByKey(lambda x,y: (x._1+y._1,x._2+y._2))\n",
    "SubAvg = RDDreduce.mapValues(lambda sum,count: (1.0*sum)/count)"
   ]
  },
  {
   "cell_type": "code",
   "execution_count": 110,
   "metadata": {
    "collapsed": false
   },
   "outputs": [
    {
     "data": {
      "text/plain": [
       "pyspark.rdd.PipelinedRDD"
      ]
     },
     "execution_count": 110,
     "metadata": {},
     "output_type": "execute_result"
    }
   ],
   "source": [
    "type(SubAvg)"
   ]
  }
 ],
 "metadata": {
  "anaconda-cloud": {},
  "kernelspec": {
   "display_name": "Python [Root]",
   "language": "python",
   "name": "Python [Root]"
  },
  "language_info": {
   "codemirror_mode": {
    "name": "ipython",
    "version": 3
   },
   "file_extension": ".py",
   "mimetype": "text/x-python",
   "name": "python",
   "nbconvert_exporter": "python",
   "pygments_lexer": "ipython3",
   "version": "3.5.2"
  }
 },
 "nbformat": 4,
 "nbformat_minor": 0
}
